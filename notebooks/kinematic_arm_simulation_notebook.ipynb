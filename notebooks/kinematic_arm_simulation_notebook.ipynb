{
 "cells": [
  {
   "cell_type": "markdown",
   "metadata": {},
   "source": [
    "# Kinematic Arm Simulation\n",
    "This Jupyter Notebook simulates a kinematic arm using inverse kinematics. The arm dynamically adjusts its link lengths and the number of joints can be controlled with a slider.\n",
    "\n",
    "You can:\n",
    "- Adjust the number of joints with a slider.\n",
    "- Click anywhere on the plot to move the target.\n",
    "- Watch the arm attempt to reach the target using inverse kinematics."
   ]
  },
  {
   "cell_type": "code",
   "execution_count": 1,
   "metadata": {},
   "outputs": [],
   "source": [
    "import numpy as np\n",
    "import matplotlib.pyplot as plt\n",
    "from matplotlib.animation import FuncAnimation\n",
    "from matplotlib.widgets import Slider\n",
    "\n",
    "# Kinematic Arm Simulation Parameters\n",
    "link_lengths = [2, 2]\n",
    "num_links = len(link_lengths)\n",
    "\n",
    "# State flags\n",
    "reached_target = False\n",
    "movement_count = 0"
   ]
  },
  {
   "cell_type": "markdown",
   "metadata": {},
   "source": [
    "## Defining the Functions\n",
    "The following functions define the forward kinematics, link optimization, and inverse kinematics for the arm simulation."
   ]
  },
  {
   "cell_type": "code",
   "execution_count": 2,
   "metadata": {},
   "outputs": [],
   "source": [
    "def forward_kinematics(angles):\n",
    "    x, y = [0], [0]\n",
    "    for i in range(num_links):\n",
    "        x.append(x[-1] + link_lengths[i] * np.cos(np.sum(angles[:i+1])))\n",
    "        y.append(y[-1] + link_lengths[i] * np.sin(np.sum(angles[:i+1])))\n",
    "    return x, y\n",
    "\n",
    "def optimize_link_lengths(target, angles):\n",
    "    total_distance = np.linalg.norm(target)\n",
    "    link_length = total_distance / num_links\n",
    "    return [link_length] * num_links\n",
    "\n",
    "def inverse_kinematics(target, angles, alpha=0.1, max_iters=100):\n",
    "    global link_lengths, reached_target\n",
    "    if target is None:\n",
    "        return angles\n",
    "    link_lengths = optimize_link_lengths(target, angles)\n",
    "    for _ in range(max_iters):\n",
    "        x, y = forward_kinematics(angles)\n",
    "        end_effector = np.array([x[-1], y[-1]])\n",
    "        error = target - end_effector\n",
    "        if np.linalg.norm(error) < 1e-1:\n",
    "            reached_target = True\n",
    "            break\n",
    "        reached_target = False\n",
    "        for i in range(num_links):\n",
    "            angles_temp = angles.copy()\n",
    "            angles_temp[i] += 0.01\n",
    "            x_temp, y_temp = forward_kinematics(angles_temp)\n",
    "            end_effector_temp = np.array([x_temp[-1], y_temp[-1]])\n",
    "            gradient = (np.linalg.norm(end_effector_temp - target) - np.linalg.norm(error)) / 0.01\n",
    "            angles[i] -= alpha * gradient\n",
    "    return angles"
   ]
  },
  {
   "cell_type": "markdown",
   "metadata": {},
   "source": [
    "## Visualization Setup\n",
    "This section sets up the Matplotlib plot and the animation parameters, including the interactive slider and the click event for target movement."
   ]
  },
  {
   "cell_type": "code",
   "execution_count": 3,
   "metadata": {},
   "outputs": [
    {
     "data": {
      "image/png": "[encoded data removed]",
      "text/plain": [
       "<Figure size 640x480 with 1 Axes>"
      ]
     },
     "metadata": {},
     "output_type": "display_data"
    }
   ],
   "source": [
    "fig, ax = plt.subplots()\n",
    "plt.subplots_adjust(bottom=0.25)\n",
    "ax.set_xlim(-5, 5)\n",
    "ax.set_ylim(-5, 5)\n",
    "line, = ax.plot([], [], 'o-', lw=2)\n",
    "target_dot, = ax.plot([], [], 'ro')\n",
    "base_dot, = ax.plot([0], [0], 'go')\n",
    "movement_text = ax.text(-4, 4, 'Moves: 0', fontsize=12)\n",
    "angles = np.radians([45, 45])\n",
    "target = np.array([3, 1])"
   ]
  },
  {
   "cell_type": "markdown",
   "metadata": {},
   "source": [
    "## Interactive Controls\n",
    "This slider allows you to change the number of joints in the simulation dynamically."
   ]
  },
  {
   "cell_type": "code",
   "execution_count": 4,
   "metadata": {},
   "outputs": [
    {
     "data": {
      "text/plain": [
       "0"
      ]
     },
     "execution_count": 4,
     "metadata": {},
     "output_type": "execute_result"
    },
    {
     "data": {
      "image/png": "[encoded data removed]",
      "text/plain": [
       "<Figure size 640x480 with 1 Axes>"
      ]
     },
     "metadata": {},
     "output_type": "display_data"
    }
   ],
   "source": [
    "ax_slider = plt.axes([0.2, 0.1, 0.65, 0.03])\n",
    "slider = Slider(ax_slider, 'Joints', 2, 5, valinit=num_links, valstep=1)\n",
    "\n",
    "def update_num_links(val):\n",
    "    global num_links, link_lengths, angles, target, reached_target, movement_count\n",
    "    num_links = int(val)\n",
    "    link_lengths = [2] * num_links\n",
    "    angles = np.radians([45] * num_links)\n",
    "    target = np.array([3, 1])\n",
    "    reached_target = False\n",
    "    movement_count = 0\n",
    "    update(0)\n",
    "\n",
    "slider.on_changed(update_num_links)"
   ]
  },
  {
   "cell_type": "markdown",
   "metadata": {},
   "source": [
    "## Animation and Interaction\n",
    "This section handles the animation, including updating the arm's position and responding to mouse clicks to move the target."
   ]
  },
  {
   "cell_type": "code",
   "execution_count": 5,
   "metadata": {},
   "outputs": [],
   "source": [
    "def update(frame):\n",
    "    global angles, reached_target, movement_count\n",
    "    if not reached_target:\n",
    "        angles = inverse_kinematics(target, angles)\n",
    "        movement_count += 1\n",
    "    x, y = forward_kinematics(angles)\n",
    "    line.set_data(x, y)\n",
    "    target_dot.set_data([target[0]], [target[1]])\n",
    "    base_dot.set_data([0], [0])\n",
    "    movement_text.set_text(f'Moves: {movement_count}')\n",
    "    return line, target_dot, base_dot, movement_text\n",
    "\n",
    "def on_click(event):\n",
    "    global target, reached_target, movement_count\n",
    "    if event.xdata is not None and event.ydata is not None:\n",
    "        target = np.array([event.xdata, event.ydata])\n",
    "        reached_target = False\n",
    "        movement_count = 0\n",
    "\n",
    "fig.canvas.mpl_connect('button_press_event', on_click)\n",
    "ani = FuncAnimation(fig, update, frames=100, blit=True)\n",
    "plt.show()"
   ]
  }
 ],
 "metadata": {
  "kernelspec": {
   "display_name": ".venv",
   "language": "python",
   "name": "python3"
  },
  "language_info": {
   "codemirror_mode": {
    "name": "ipython",
    "version": 3
   },
   "file_extension": ".py",
   "mimetype": "text/x-python",
   "name": "python",
   "nbconvert_exporter": "python",
   "pygments_lexer": "ipython3",
   "version": "3.12.3"
  }
 },
 "nbformat": 4,
 "nbformat_minor": 2
}
